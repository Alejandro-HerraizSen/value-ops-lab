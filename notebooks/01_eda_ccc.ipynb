{
 "cells": [
  {
   "cell_type": "markdown",
   "id": "3488ebd2",
   "metadata": {},
   "source": [
    "# 01 – Exploratory Data Analysis: Cash Conversion Cycle (CCC)\n",
    "\n",
    "This notebook explores synthetic and raw data to compute:\n",
    "- Days Sales Outstanding (DSO)\n",
    "- Days Payables Outstanding (DPO)\n",
    "- Days Inventory Outstanding (DIO)\n",
    "- Cash Conversion Cycle (CCC)\n",
    "\n",
    "The goal is to **quantify working-capital efficiency** and identify improvement levers."
   ]
  },
  {
   "cell_type": "code",
   "execution_count": 1,
   "id": "59b530ad",
   "metadata": {},
   "outputs": [
    {
     "ename": "ModuleNotFoundError",
     "evalue": "No module named 'value_ops_lab'",
     "output_type": "error",
     "traceback": [
      "\u001b[31m---------------------------------------------------------------------------\u001b[39m",
      "\u001b[31mModuleNotFoundError\u001b[39m                       Traceback (most recent call last)",
      "\u001b[36mCell\u001b[39m\u001b[36m \u001b[39m\u001b[32mIn[1]\u001b[39m\u001b[32m, line 3\u001b[39m\n\u001b[32m      1\u001b[39m \u001b[38;5;28;01mimport\u001b[39;00m\u001b[38;5;250m \u001b[39m\u001b[34;01mpandas\u001b[39;00m\u001b[38;5;250m \u001b[39m\u001b[38;5;28;01mas\u001b[39;00m\u001b[38;5;250m \u001b[39m\u001b[34;01mpd\u001b[39;00m\n\u001b[32m      2\u001b[39m \u001b[38;5;28;01mimport\u001b[39;00m\u001b[38;5;250m \u001b[39m\u001b[34;01mmatplotlib\u001b[39;00m\u001b[34;01m.\u001b[39;00m\u001b[34;01mpyplot\u001b[39;00m\u001b[38;5;250m \u001b[39m\u001b[38;5;28;01mas\u001b[39;00m\u001b[38;5;250m \u001b[39m\u001b[34;01mplt\u001b[39;00m\n\u001b[32m----> \u001b[39m\u001b[32m3\u001b[39m \u001b[38;5;28;01mfrom\u001b[39;00m\u001b[38;5;250m \u001b[39m\u001b[34;01mvalue_ops_lab\u001b[39;00m\u001b[34;01m.\u001b[39;00m\u001b[34;01msynth\u001b[39;00m\u001b[38;5;250m \u001b[39m\u001b[38;5;28;01mimport\u001b[39;00m make_synthetic\n\u001b[32m      4\u001b[39m \u001b[38;5;28;01mfrom\u001b[39;00m\u001b[38;5;250m \u001b[39m\u001b[34;01mvalue_ops_lab\u001b[39;00m\u001b[34;01m.\u001b[39;00m\u001b[34;01mccc\u001b[39;00m\u001b[38;5;250m \u001b[39m\u001b[38;5;28;01mimport\u001b[39;00m dso, dpo, dio, ccc\n\u001b[32m      6\u001b[39m \u001b[38;5;66;03m# Generate synthetic dataset\u001b[39;00m\n",
      "\u001b[31mModuleNotFoundError\u001b[39m: No module named 'value_ops_lab'"
     ]
    }
   ],
   "source": [
    "import pandas as pd\n",
    "import matplotlib.pyplot as plt\n",
    "from value_ops_lab.synth import make_synthetic\n",
    "from value_ops_lab.ccc import dso, dpo, dio, ccc\n",
    "\n",
    "# Generate synthetic dataset\n",
    "df = make_synthetic(n_months=24)\n",
    "\n",
    "# Build inputs\n",
    "sales_df = df[[\"month\",\"sales\"]]\n",
    "cogs_df = df[[\"month\",\"cogs\"]]\n",
    "\n",
    "dso_df = dso(df[[\"month\",\"ar_balance\"]], sales_df)\n",
    "dpo_df = dpo(df[[\"month\",\"ap_balance\"]], cogs_df)\n",
    "dio_df = dio(df[[\"month\",\"inventory\"]], cogs_df)\n",
    "\n",
    "ccc_df = ccc(dso_df, dpo_df, dio_df)\n",
    "ccc_df.head()"
   ]
  },
  {
   "cell_type": "code",
   "execution_count": null,
   "id": "27d6a82f",
   "metadata": {},
   "outputs": [],
   "source": [
    "# Plot CCC over time\n",
    "plt.figure(figsize=(10,5))\n",
    "plt.plot(ccc_df[\"month\"], ccc_df[\"CCC\"], label=\"CCC\")\n",
    "plt.title(\"Cash Conversion Cycle Over Time\")\n",
    "plt.ylabel(\"Days\")\n",
    "plt.legend()\n",
    "plt.show()"
   ]
  },
  {
   "cell_type": "markdown",
   "id": "ff2fc006",
   "metadata": {},
   "source": [
    "### Key Insight\n",
    "- High CCC → more cash tied up.\n",
    "- Improving DSO/DPO/DIO can unlock liquidity."
   ]
  }
 ],
 "metadata": {
  "kernelspec": {
   "display_name": ".venv (3.12.1)",
   "language": "python",
   "name": "python3"
  },
  "language_info": {
   "codemirror_mode": {
    "name": "ipython",
    "version": 3
   },
   "file_extension": ".py",
   "mimetype": "text/x-python",
   "name": "python",
   "nbconvert_exporter": "python",
   "pygments_lexer": "ipython3",
   "version": "3.12.1"
  }
 },
 "nbformat": 4,
 "nbformat_minor": 5
}
