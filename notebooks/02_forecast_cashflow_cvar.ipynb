{
 "cells": [
  {
   "cell_type": "markdown",
   "id": "5ac18c63",
   "metadata": {},
   "source": [
    "# 02 – Forecasting Cash Flow and CVaR Buffer Sizing\n",
    "\n",
    "Objective:\n",
    "- Forecast net operating cash flows.\n",
    "- Compute CVaR-based buffer to protect against shortfall risk."
   ]
  },
  {
   "cell_type": "code",
   "execution_count": null,
   "id": "405270a6",
   "metadata": {},
   "outputs": [],
   "source": [
    "import pandas as pd\n",
    "import numpy as np\n",
    "from sklearn.model_selection import train_test_split\n",
    "from value_ops_lab.synth import make_synthetic\n",
    "from value_ops_lab.risk_models import quantile_forecast, cvar_cash_buffer\n",
    "\n",
    "# Generate synthetic dataset\n",
    "df = make_synthetic(n_months=36)\n",
    "df[\"net_cf\"] = df[\"sales\"] - df[\"cogs\"]\n",
    "\n",
    "# Features: simple lag features\n",
    "df[\"lag1\"] = df[\"net_cf\"].shift(1)\n",
    "df[\"lag2\"] = df[\"net_cf\"].shift(2)\n",
    "df = df.dropna()\n",
    "\n",
    "X = df[[\"lag1\",\"lag2\"]]\n",
    "y = df[\"net_cf\"]\n",
    "\n",
    "X_train, X_test, y_train, y_test = train_test_split(X, y, test_size=0.2, shuffle=False)\n",
    "\n",
    "# Forecast next 6 months\n",
    "X_future = X_test.tail(6)\n",
    "preds = quantile_forecast(X_train, y_train, X_future, quantiles=(0.1,0.5,0.9))\n",
    "preds"
   ]
  },
  {
   "cell_type": "code",
   "execution_count": null,
   "id": "6f141c2b",
   "metadata": {},
   "outputs": [],
   "source": [
    "# CVaR buffer sizing\n",
    "scenarios = y_test.tail(12).values + np.random.normal(0,5000,12)\n",
    "buffer, t = cvar_cash_buffer(scenarios, alpha=0.95)\n",
    "print(f\"Optimal buffer at 95% CVaR: ${buffer:,.0f}\")"
   ]
  },
  {
   "cell_type": "markdown",
   "id": "dc780e84",
   "metadata": {},
   "source": [
    "### Key Insight\n",
    "- The CVaR buffer balances cost of capital vs. probability of cash shortfall.\n",
    "- This aligns with **risk-aware FP&A**, highly relevant to Accordion’s analytics."
   ]
  }
 ],
 "metadata": {
  "kernelspec": {
   "display_name": ".venv (3.12.1)",
   "language": "python",
   "name": "python3"
  },
  "language_info": {
   "name": "python",
   "version": "3.12.1"
  }
 },
 "nbformat": 4,
 "nbformat_minor": 5
}
