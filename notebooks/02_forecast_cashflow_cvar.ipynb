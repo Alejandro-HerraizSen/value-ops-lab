{
 "cells": [
  {
   "cell_type": "markdown",
   "id": "5ac18c63",
   "metadata": {},
   "source": [
    "# 02 – Forecasting Cash Flow and CVaR Buffer Sizing\n",
    "\n",
    "Objective:\n",
    "- Forecast net operating cash flows.\n",
    "- Compute CVaR-based buffer to protect against shortfall risk."
   ]
  },
  {
   "cell_type": "code",
   "execution_count": 2,
   "id": "8ff6122e",
   "metadata": {},
   "outputs": [],
   "source": [
    "# Easy fix for finding parent directory modules\n",
    "import sys, os\n",
    "sys.path.append(os.path.abspath(\"..\"))"
   ]
  },
  {
   "cell_type": "code",
   "execution_count": 3,
   "id": "405270a6",
   "metadata": {},
   "outputs": [
    {
     "data": {
      "text/plain": [
       "{0.1: array([16585.44902952, 19409.66625873, 19409.66625873, 17359.46424146,\n",
       "        17359.46424146, 12807.48864039]),\n",
       " 0.5: array([25285.5813004 , 19599.28015337, 23335.13618029, 21738.57894345,\n",
       "        29620.450586  , 23926.62398049]),\n",
       " 0.9: array([26837.19650362, 23573.34675724, 23573.34675724, 29228.14761738,\n",
       "        31499.0353344 , 24194.00799946])}"
      ]
     },
     "execution_count": 3,
     "metadata": {},
     "output_type": "execute_result"
    }
   ],
   "source": [
    "import pandas as pd\n",
    "import numpy as np\n",
    "from sklearn.model_selection import train_test_split\n",
    "from value_ops_lab.synth import make_synthetic\n",
    "from value_ops_lab.risk_models import quantile_forecast, cvar_cash_buffer\n",
    "\n",
    "# Generate synthetic dataset\n",
    "df = make_synthetic(n_months=36)\n",
    "df[\"net_cf\"] = df[\"sales\"] - df[\"cogs\"]\n",
    "\n",
    "# Features: simple lag features\n",
    "df[\"lag1\"] = df[\"net_cf\"].shift(1)\n",
    "df[\"lag2\"] = df[\"net_cf\"].shift(2)\n",
    "df = df.dropna()\n",
    "\n",
    "X = df[[\"lag1\",\"lag2\"]]\n",
    "y = df[\"net_cf\"]\n",
    "\n",
    "X_train, X_test, y_train, y_test = train_test_split(X, y, test_size=0.2, shuffle=False)\n",
    "\n",
    "# Forecast next 6 months\n",
    "X_future = X_test.tail(6)\n",
    "preds = quantile_forecast(X_train, y_train, X_future, quantiles=(0.1,0.5,0.9))\n",
    "preds"
   ]
  },
  {
   "cell_type": "code",
   "execution_count": null,
   "id": "6f141c2b",
   "metadata": {},
   "outputs": [
    {
     "ename": "ValueError",
     "evalue": "operands could not be broadcast together with shapes (7,) (12,) ",
     "output_type": "error",
     "traceback": [
      "\u001b[31m---------------------------------------------------------------------------\u001b[39m",
      "\u001b[31mValueError\u001b[39m                                Traceback (most recent call last)",
      "\u001b[36mCell\u001b[39m\u001b[36m \u001b[39m\u001b[32mIn[4]\u001b[39m\u001b[32m, line 2\u001b[39m\n\u001b[32m      1\u001b[39m \u001b[38;5;66;03m# CVaR buffer sizing\u001b[39;00m\n\u001b[32m----> \u001b[39m\u001b[32m2\u001b[39m scenarios = \u001b[43my_test\u001b[49m\u001b[43m.\u001b[49m\u001b[43mtail\u001b[49m\u001b[43m(\u001b[49m\u001b[32;43m12\u001b[39;49m\u001b[43m)\u001b[49m\u001b[43m.\u001b[49m\u001b[43mvalues\u001b[49m\u001b[43m \u001b[49m\u001b[43m+\u001b[49m\u001b[43m \u001b[49m\u001b[43mnp\u001b[49m\u001b[43m.\u001b[49m\u001b[43mrandom\u001b[49m\u001b[43m.\u001b[49m\u001b[43mnormal\u001b[49m\u001b[43m(\u001b[49m\u001b[32;43m0\u001b[39;49m\u001b[43m,\u001b[49m\u001b[32;43m5000\u001b[39;49m\u001b[43m,\u001b[49m\u001b[32;43m12\u001b[39;49m\u001b[43m)\u001b[49m\n\u001b[32m      3\u001b[39m buffer, t = cvar_cash_buffer(scenarios, alpha=\u001b[32m0.95\u001b[39m)\n\u001b[32m      4\u001b[39m \u001b[38;5;28mprint\u001b[39m(\u001b[33mf\u001b[39m\u001b[33m\"\u001b[39m\u001b[33mOptimal buffer at 95% CVaR: $\u001b[39m\u001b[38;5;132;01m{\u001b[39;00mbuffer\u001b[38;5;132;01m:\u001b[39;00m\u001b[33m,.0f\u001b[39m\u001b[38;5;132;01m}\u001b[39;00m\u001b[33m\"\u001b[39m)\n",
      "\u001b[31mValueError\u001b[39m: operands could not be broadcast together with shapes (7,) (12,) "
     ]
    }
   ],
   "source": [
    "# CVaR buffer sizing (robust to any test size)\n",
    "n = min(12, len(y_test))                 # use up to 12, but not more than available\n",
    "noise = np.random.normal(0, 5000, n)     # same length as y_test tail\n",
    "scenarios = y_test.tail(n).to_numpy() + noise\n",
    "\n",
    "from value_ops_lab.risk_models import cvar_cash_buffer\n",
    "\n",
    "try:\n",
    "    buffer, t = cvar_cash_buffer(scenarios, alpha=0.95)\n",
    "    print(f\"Optimal buffer at 95% CVaR: ${buffer:,.0f}\")\n",
    "except ImportError:\n",
    "    print(\"cvxpy not installed — skipping CVaR optimization.\")"
   ]
  },
  {
   "cell_type": "markdown",
   "id": "dc780e84",
   "metadata": {},
   "source": [
    "### Key Insight\n",
    "- The CVaR buffer balances cost of capital vs. probability of cash shortfall.\n",
    "- This aligns with **risk-aware FP&A**, highly relevant to Accordion’s analytics."
   ]
  }
 ],
 "metadata": {
  "kernelspec": {
   "display_name": ".venv (3.12.1)",
   "language": "python",
   "name": "python3"
  },
  "language_info": {
   "codemirror_mode": {
    "name": "ipython",
    "version": 3
   },
   "file_extension": ".py",
   "mimetype": "text/x-python",
   "name": "python",
   "nbconvert_exporter": "python",
   "pygments_lexer": "ipython3",
   "version": "3.12.1"
  }
 },
 "nbformat": 4,
 "nbformat_minor": 5
}
