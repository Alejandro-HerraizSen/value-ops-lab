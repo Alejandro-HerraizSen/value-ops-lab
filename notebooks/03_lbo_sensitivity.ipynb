{
 "cells": [
  {
   "cell_type": "markdown",
   "id": "c9dc8b25",
   "metadata": {},
   "source": [
    "# 03 – LBO Sensitivity Analysis\n",
    "\n",
    "Objective:\n",
    "- Model EBITDA bridge from drivers (price, volume, mix, COGS%, Opex).\n",
    "- Perform sensitivity analysis for PE-style scenarios."
   ]
  },
  {
   "cell_type": "code",
   "execution_count": null,
   "id": "e6325baa",
   "metadata": {},
   "outputs": [],
   "source": [
    "# Easy fix for finding parent directory modules\n",
    "import sys, os\n",
    "sys.path.append(os.path.abspath(\"..\"))"
   ]
  },
  {
   "cell_type": "code",
   "execution_count": null,
   "id": "2f42ea76",
   "metadata": {},
   "outputs": [],
   "source": [
    "import pandas as pd\n",
    "import numpy as np\n",
    "from value_ops_lab.scenario_engine import ebitda_bridge\n",
    "\n",
    "# Create base dataset\n",
    "df = pd.DataFrame({\n",
    "    \"price\": [100, 120, 90],\n",
    "    \"volume\": [1000, 800, 1200],\n",
    "    \"cogs_pct\": [0.6, 0.55, 0.65],\n",
    "    \"opex\": [20000, 25000, 18000]\n",
    "})\n",
    "\n",
    "drivers = {\"price\": 0.02, \"volume\": 0.03, \"mix\": 0.01, \"cogs_pct\": -0.01, \"opex\": -0.02}\n",
    "bridge = ebitda_bridge(df, drivers)\n",
    "bridge"
   ]
  },
  {
   "cell_type": "code",
   "execution_count": null,
   "id": "59f45167",
   "metadata": {},
   "outputs": [],
   "source": [
    "# Tornado chart\n",
    "import matplotlib.pyplot as plt\n",
    "\n",
    "impacts = bridge[bridge[\"step\"]!=\"Base EBITDA\"].set_index(\"step\")[\"value\"]\n",
    "impacts.plot(kind=\"barh\", figsize=(8,4))\n",
    "plt.title(\"EBITDA Driver Sensitivity\")\n",
    "plt.xlabel(\"Δ EBITDA\")\n",
    "plt.show()"
   ]
  },
  {
   "cell_type": "markdown",
   "id": "f1216177",
   "metadata": {},
   "source": [
    "### Key Insight\n",
    "- This type of **driver-based analysis** mirrors what consultants deliver in 100-day plans or diligence decks."
   ]
  }
 ],
 "metadata": {
  "kernelspec": {
   "display_name": ".venv (3.12.1)",
   "language": "python",
   "name": "python3"
  },
  "language_info": {
   "name": "python",
   "version": "3.12.1"
  }
 },
 "nbformat": 4,
 "nbformat_minor": 5
}
